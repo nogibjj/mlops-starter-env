{
  "nbformat": 4,
  "nbformat_minor": 0,
  "metadata": {
    "colab": {
      "provenance": []
    },
    "kernelspec": {
      "name": "python3",
      "display_name": "Python 3"
    },
    "language_info": {
      "name": "python"
    }
  },
  "cells": [
    {
      "cell_type": "markdown",
      "source": [
        "## Ingest"
      ],
      "metadata": {
        "id": "Q6mXkPbkFHDo"
      }
    },
    {
      "cell_type": "code",
      "execution_count": null,
      "metadata": {
        "id": "baZ5DKulFBRI"
      },
      "outputs": [],
      "source": []
    },
    {
      "cell_type": "markdown",
      "source": [
        "## EDA"
      ],
      "metadata": {
        "id": "67Ch6EuOFLA5"
      }
    },
    {
      "cell_type": "code",
      "source": [],
      "metadata": {
        "id": "jnxWjiGqFMFR"
      },
      "execution_count": null,
      "outputs": []
    },
    {
      "cell_type": "markdown",
      "source": [
        "## Modeling"
      ],
      "metadata": {
        "id": "f71ScHI5FMkr"
      }
    },
    {
      "cell_type": "code",
      "source": [],
      "metadata": {
        "id": "44V2GQ8VFN24"
      },
      "execution_count": null,
      "outputs": []
    },
    {
      "cell_type": "markdown",
      "source": [
        "## Conclusion"
      ],
      "metadata": {
        "id": "p_vM4AjqFOVD"
      }
    },
    {
      "cell_type": "code",
      "source": [],
      "metadata": {
        "id": "gPu31tBzFP6Z"
      },
      "execution_count": null,
      "outputs": []
    }
  ]
}